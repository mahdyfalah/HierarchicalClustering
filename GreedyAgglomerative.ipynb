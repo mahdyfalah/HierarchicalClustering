{
 "cells": [
  {
   "cell_type": "code",
   "execution_count": 21,
   "id": "ab4a401f",
   "metadata": {},
   "outputs": [],
   "source": [
    "import numpy as np\n",
    "from scipy.spatial import distance"
   ]
  },
  {
   "cell_type": "code",
   "execution_count": 70,
   "id": "4737999e",
   "metadata": {},
   "outputs": [],
   "source": [
    "class GreedyAgglomerative:\n",
    "    def __init__(self, distance_function = 'euclidian', linkage = 'single'):\n",
    "        # attributes\n",
    "        self._merges = []\n",
    "\n",
    "        # internally used variables\n",
    "        self._X = None\n",
    "        self._clusters = None\n",
    "        self._n = None\n",
    "        self._distance_matrix = None\n",
    "        self._distance_function = distance_function\n",
    "        self._linkage = linkage\n",
    "\n",
    "    def __greedy(self):\n",
    "        \"\"\"\n",
    "        Greedy Algorithm to find the Hierarchical Clustering\n",
    "        \"\"\"\n",
    "        while len(self._clusters) > 1:\n",
    "\n",
    "            # Find minimum from the distance matrix (argmin flattens the matrix to 1D, therefore needs for transformation)\n",
    "            min_ind = (np.where(self._distance_matrix == np.amin(self._distance_matrix)))\n",
    "            min_ind = [min_ind[0][0], min_ind[1][0]]\n",
    "\n",
    "            min_dist = self._distance_matrix.min()\n",
    "\n",
    "            # Merge two clusters using single/complete linkage\n",
    "            if self._linkage == 'single':\n",
    "                for k in range(len(self._distance_matrix)):\n",
    "                    if k not in min_ind:\n",
    "                        self._distance_matrix[min_ind[0]][k] = min(self._distance_matrix[min_ind[0]][k], self._distance_matrix[min_ind[1]][k])\n",
    "                        self._distance_matrix[k][min_ind[0]] = self._distance_matrix[min_ind[0]][k]\n",
    "\n",
    "            if self._linkage == 'complete':\n",
    "                for k in range(len(self._distance_matrix)):\n",
    "                    if k not in min_ind:\n",
    "                        self._distance_matrix[min_ind[0]][k] = max(self._distance_matrix[min_ind[0]][k], self._distance_matrix[min_ind[1]][k])\n",
    "                        self._distance_matrix[k][min_ind[0]] = self._distance_matrix[min_ind[0]][k]\n",
    "\n",
    "\n",
    "            self._distance_matrix = np.delete(self._distance_matrix, min_ind[1], 0)\n",
    "            self._distance_matrix = np.delete(self._distance_matrix, min_ind[1], 1)\n",
    "            # Update clusters\n",
    "            self._clusters[min_ind[0]] = self._clusters[min_ind[0]] + self._clusters[min_ind[1]]\n",
    "\n",
    "            # Record merge (the last component of merge is a placeholder 0 for it to work with dendrogram plotting)\n",
    "            self._merges.append([self._clusters[min_ind[0]][0],self._clusters[min_ind[0]][1], min_dist, 0])\n",
    "\n",
    "            # Rename new cluster to the next available number\n",
    "            self._clusters[min_ind[0]] = [self._n]\n",
    "\n",
    "            # Increase cluster number\n",
    "            self._n += 1\n",
    "\n",
    "            # Remove old cluster member\n",
    "            self._clusters.pop(min_ind[1])\n",
    "\n",
    "    def __compute_distance_matrix(self):\n",
    "        \"\"\"\n",
    "        computes distance matrix based on distance_function and assigns it to self._distance_matrix\n",
    "        :return:\n",
    "        \"\"\"\n",
    "        self._distance_matrix = np.zeros((self._n, self._n))\n",
    "        self._distance_matrix[:, :] = 'inf'\n",
    "\n",
    "        if self._distance_function == 'manhattan':\n",
    "            for i in range(self._n-1):\n",
    "                for j in range(i+1,self._n):\n",
    "                    self._distance_matrix[i][j] = distance.cityblock(self._X[i], self._X[j])\n",
    "                    self._distance_matrix[j][i] = self._distance_matrix[i][j]\n",
    "\n",
    "        if self._distance_function == 'euclidian':\n",
    "            for i in range(self._n-1):\n",
    "                for j in range(i+1,self._n):\n",
    "                    self._distance_matrix[i][j] = distance.euclidean(self._X[i], self._X[j])\n",
    "                    self._distance_matrix[j][i] = self._distance_matrix[i][j]\n",
    "\n",
    "    def fit(self, x):\n",
    "        \"\"\"\n",
    "        Fits the model according to x\n",
    "        :param x: dataset\n",
    "        \"\"\"\n",
    "        self._X = x\n",
    "        self._n = len(self._X)\n",
    "        self._clusters = [[i] for i in range(self._n)]\n",
    "        self.__compute_distance_matrix()\n",
    "\n",
    "    def predict(self):\n",
    "            \"\"\"\n",
    "            Predicts labels of X according to the model and writes them to labels_, where they can be accessed\n",
    "            \"\"\"\n",
    "            self.__greedy()\n",
    "            return self._merges\n",
    "\n",
    "    def fit_predict(self, x):\n",
    "        self.fit(x)\n",
    "        self.predict()\n",
    "        return self._merges"
   ]
  },
  {
   "cell_type": "code",
   "execution_count": 71,
   "outputs": [
    {
     "name": "stdout",
     "output_type": "stream",
     "text": [
      "[[0, 1, 20.0, 0], [2, 4, 22.0, 0], [3, 5, 32.0, 0], [6, 7, 42.0, 0], [9, 8, 66.0, 0]]\n"
     ]
    }
   ],
   "source": [
    "# for testing\n",
    "X = np.array([[0,0], [10,10], [21,21], [33,33], [5, 27], [28,6]])\n",
    "\n",
    "clustering = GreedyAgglomerative('manhattan', 'complete')\n",
    "print(clustering.fit_predict(X))"
   ],
   "metadata": {
    "collapsed": false,
    "pycharm": {
     "name": "#%%\n"
    }
   }
  },
  {
   "cell_type": "code",
   "execution_count": null,
   "outputs": [],
   "source": [],
   "metadata": {
    "collapsed": false,
    "pycharm": {
     "name": "#%%\n"
    }
   }
  }
 ],
 "metadata": {
  "kernelspec": {
   "display_name": "Python 3 (ipykernel)",
   "language": "python",
   "name": "python3"
  },
  "language_info": {
   "codemirror_mode": {
    "name": "ipython",
    "version": 3
   },
   "file_extension": ".py",
   "mimetype": "text/x-python",
   "name": "python",
   "nbconvert_exporter": "python",
   "pygments_lexer": "ipython3",
   "version": "3.9.10"
  }
 },
 "nbformat": 4,
 "nbformat_minor": 5
}