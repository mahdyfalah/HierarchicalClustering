{
 "cells": [
  {
   "cell_type": "code",
   "execution_count": 2,
   "id": "ab4a401f",
   "metadata": {},
   "outputs": [],
   "source": [
    "import numpy as np\n",
    "from sklearn.preprocessing import MinMaxScaler"
   ]
  },
  {
   "cell_type": "code",
   "execution_count": 69,
   "id": "4737999e",
   "metadata": {},
   "outputs": [],
   "source": [
    "class GreedyAgglomerative:\n",
    "    def __init__(self):\n",
    "\n",
    "        # attributes\n",
    "        self.labels_ = []\n",
    "\n",
    "        # internally used variables\n",
    "        self._X = None\n",
    "        self._clusters = []\n",
    "\n",
    "    def __normalize(self, x):\n",
    "        \"\"\"\n",
    "        Normalizes the data feature wise\n",
    "        :param x: numpy.array of the input data\n",
    "        :return: Normalized data\n",
    "        \"\"\"\n",
    "        scaler = MinMaxScaler()\n",
    "        return scaler.fit_transform(x)\n",
    "\n",
    "    def __greedy(self):\n",
    "        \"\"\"\n",
    "        Greedy Algorithm to find the Hierarchical Clustering\n",
    "        :return:\n",
    "        \"\"\"\n",
    "        n = self._X.shape[0]\n",
    "\n",
    "        while self._clusters.shape[0] > 1:\n",
    "            break\n",
    "\n",
    "    def fit(self, x):\n",
    "        \"\"\"\n",
    "        Fits the model according to x\n",
    "        :param x: dataset\n",
    "        \"\"\"\n",
    "        self._X = np.array(x)\n",
    "        self._clusters = np.array(x)\n",
    "\n",
    "    def predict(self, x):\n",
    "        \"\"\"\n",
    "        Predicts labels of X according to the model and writes them to labels_, where they can be accessed\n",
    "        :param x: Dataset\n",
    "        \"\"\"\n",
    "        self.__greedy()"
   ]
  },
  {
   "cell_type": "code",
   "execution_count": 70,
   "outputs": [],
   "source": [
    "# for testing\n",
    "X = np.array([[1, 2], [1, 4], [1, 0], [4, 2], [4, 4], [4, 0]])\n",
    "\n",
    "clustering = GreedyAgglomerative()\n",
    "clustering.fit(X)\n",
    "clustering.predict(X)"
   ],
   "metadata": {
    "collapsed": false,
    "pycharm": {
     "name": "#%%\n"
    }
   }
  },
  {
   "cell_type": "code",
   "execution_count": null,
   "outputs": [],
   "source": [],
   "metadata": {
    "collapsed": false,
    "pycharm": {
     "name": "#%%\n"
    }
   }
  }
 ],
 "metadata": {
  "kernelspec": {
   "display_name": "Python 3 (ipykernel)",
   "language": "python",
   "name": "python3"
  },
  "language_info": {
   "codemirror_mode": {
    "name": "ipython",
    "version": 3
   },
   "file_extension": ".py",
   "mimetype": "text/x-python",
   "name": "python",
   "nbconvert_exporter": "python",
   "pygments_lexer": "ipython3",
   "version": "3.9.10"
  }
 },
 "nbformat": 4,
 "nbformat_minor": 5
}